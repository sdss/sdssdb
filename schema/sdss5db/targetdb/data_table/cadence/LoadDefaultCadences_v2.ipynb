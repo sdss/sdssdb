{
 "cells": [
  {
   "cell_type": "markdown",
   "id": "magnetic-contents",
   "metadata": {},
   "source": [
    "This notebook is a short and sweet demo showing how we can use roboscheduler's cadence methods to load a set of cadences from a .cfg file, and write them out as a FITS file. \n",
    "\n",
    "In the future, we may want to edit to show how we can even load them straight into targetdb, but not yet.\n",
    "\n",
    "First step - import packages we'll need:"
   ]
  },
  {
   "cell_type": "code",
   "execution_count": 54,
   "id": "wanted-jonathan",
   "metadata": {},
   "outputs": [],
   "source": [
    "##### import roboscheduler, and its cadence method\n",
    "import roboscheduler\n",
    "from roboscheduler import cadence\n",
    "\n",
    "##### also import fitsio, to write out the cadences to a FITS file.\n",
    "import fitsio\n",
    "import csv\n",
    "\n",
    "##### and import sdssdb to load back to the database\n",
    "import sdssdb\n",
    "from sdssdb.peewee.sdss5db import database\n",
    "\n",
    "##### import numpy to construct the arrays for the rm cadence\n",
    "import numpy as np"
   ]
  },
  {
   "cell_type": "code",
   "execution_count": 55,
   "id": "marked-democrat",
   "metadata": {},
   "outputs": [
    {
     "name": "stdout",
     "output_type": "stream",
     "text": [
      "/Users/coveyk/opt/anaconda3/envs/roboscheduler/bin/roboscheduler\r\n"
     ]
    }
   ],
   "source": [
    "!which roboscheduler"
   ]
  },
  {
   "cell_type": "markdown",
   "id": "connected-seafood",
   "metadata": {},
   "source": [
    "next step: open a blank cadence list that we'll use to hold the cadences"
   ]
  },
  {
   "cell_type": "code",
   "execution_count": 56,
   "id": "violent-pastor",
   "metadata": {},
   "outputs": [],
   "source": [
    "clist = cadence.CadenceList()\n",
    "clist.reset()"
   ]
  },
  {
   "cell_type": "markdown",
   "id": "nearby-highway",
   "metadata": {},
   "source": [
    "Now, use the 'fromcfg' method to import the cadences from the existing [defaultCadences.cfg](https://github.com/sdss/roboDocs/blob/main/cadences/defaultCadences.cfg) file"
   ]
  },
  {
   "cell_type": "code",
   "execution_count": 57,
   "id": "noted-junction",
   "metadata": {},
   "outputs": [],
   "source": [
    "clist.fromcfg('defaultCadences_v2.cfg')\n",
    "### uncomment if you want to convince yourself that bright_8x1 and bright_8x4 are incompatible as \n",
    "### recorded in brokenCadences_v0.5.cfg\n",
    "#clist.fromcfg('brokenCadences_v0.5.cfg')"
   ]
  },
  {
   "cell_type": "markdown",
   "id": "brutal-compatibility",
   "metadata": {},
   "source": [
    "now export the cadences to an array, and print out the first element in that array to check that it makes sense."
   ]
  },
  {
   "cell_type": "code",
   "execution_count": 58,
   "id": "surface-chorus",
   "metadata": {},
   "outputs": [
    {
     "name": "stdout",
     "output_type": "stream",
     "text": [
      "('bright_1x1_v2', 1, [0., 0., 0., 0., 0., 0., 0., 0., 0., 0., 0., 0., 0., 0., 0., 0., 0., 0.], [1., 0., 0., 0., 0., 0., 0., 0., 0., 0., 0., 0., 0., 0., 0., 0., 0., 0.], [0., 0., 0., 0., 0., 0., 0., 0., 0., 0., 0., 0., 0., 0., 0., 0., 0., 0.], [0., 0., 0., 0., 0., 0., 0., 0., 0., 0., 0., 0., 0., 0., 0., 0., 0., 0.], [1, 0, 0, 0, 0, 0, 0, 0, 0, 0, 0, 0, 0, 0, 0, 0, 0, 0], [0.2, 0. , 0. , 0. , 0. , 0. , 0. , 0. , 0. , 0. , 0. , 0. , 0. , 0. , 0. , 0. , 0. , 0. ], [b'bright_time', b'', b'', b'', b'', b'', b'', b'', b'', b'', b'', b'', b'', b'', b'', b'', b'', b''], [15.,  0.,  0.,  0.,  0.,  0.,  0.,  0.,  0.,  0.,  0.,  0.,  0.,  0.,  0.,  0.,  0.,  0.], [-3.,  0.,  0.,  0.,  0.,  0.,  0.,  0.,  0.,  0.,  0.,  0.,  0.,  0.,  0.,  0.,  0.,  0.], [8., 0., 0., 0., 0., 0., 0., 0., 0., 0., 0., 0., 0., 0., 0., 0., 0., 0.], [2., 0., 0., 0., 0., 0., 0., 0., 0., 0., 0., 0., 0., 0., 0., 0., 0., 0.], 'bright_1x1', '_v2')\n"
     ]
    }
   ],
   "source": [
    "cadenceArray = clist.toarray()\n",
    "print(cadenceArray[0])"
   ]
  },
  {
   "cell_type": "markdown",
   "id": "adjusted-thanks",
   "metadata": {},
   "source": [
    "Despite the large number of zeros, that is actually what we'd expect -- that cadence format consists of:\n",
    "\n",
    "the cadence name: 'bright_1x1'\n",
    "\n",
    "the number of epochs: 1\n",
    "\n",
    "the array of delta values associated with each epoch: '[ 0., nan, nan, nan, nan, nan, nan, nan, nan, nan, nan, nan, nan, nan, nan, nan, nan, nan]'\n",
    "\n",
    "(the nan values are placeholders to signal that the epoch is not active/meaningful, and thus to ignore all the delta min/max etc. info)\n",
    "\n",
    "the array of sky brightness limits for each epoch: '[1., nan, nan, nan, nan, nan, nan, nan, nan, nan, nan, nan, nan, nan, nan, nan, nan, nan]'\n",
    "\n",
    "the array of delta_min values for each epoch: '[0., nan, nan, nan, nan, nan, nan, nan, nan, nan, nan, nan, nan, nan, nan, nan, nan, nan]'\n",
    "\n",
    "the array of delta_max values for each epoch: '[0., nan, nan, nan, nan, nan, nan, nan, nan, nan, nan, nan, nan, nan, nan, nan, nan, nan]'\n",
    "\n",
    "the array listing the number of exposures requested for each epoch: '[1, nan, nan, nan, nan, nan, nan, nan, nan, nan, nan, nan, nan, nan, nan, nan, nan, nan]'\n",
    "\n",
    "the array of max_length values for each epoch: '[0., nan, nan, nan, nan, nan, nan, nan, nan, nan, nan, nan, nan, nan, nan, nan, nan, nan]'\n",
    "\n",
    "Why are the arrays so long for a 1x1 cadence?  Because the toarray() method has to size the array according to the longest cadence it contains (in this case, a bright_18x4 cadence, so all arrays have spaces for 18 epochs, even if most of those epochs are non-active)"
   ]
  },
  {
   "cell_type": "markdown",
   "id": "loose-winning",
   "metadata": {},
   "source": [
    "Now let's check some cadences for consistency."
   ]
  },
  {
   "cell_type": "code",
   "execution_count": 59,
   "id": "piano-sensitivity",
   "metadata": {},
   "outputs": [
    {
     "name": "stdout",
     "output_type": "stream",
     "text": [
      "('bright_8x1_v2', 8, [  0.,  30.,  30.,   3.,  27., 270.,  30.,  30.,   0.,   0.,   0.,   0.,   0.,   0.,   0.,   0.,   0.,   0.], [1., 1., 1., 1., 1., 1., 1., 1., 0., 0., 0., 0., 0., 0., 0., 0., 0., 0.], [   0., 1800., 1800., 1800., 1800., 1800., 1800., 1800.,    0.,    0.,    0.,    0.,    0.,    0.,    0.,    0.,    0.,    0.], [0. , 0.5, 0.5, 0.5, 0.5, 0.5, 0.5, 0.5, 0. , 0. , 0. , 0. , 0. , 0. , 0. , 0. , 0. , 0. ], [1, 1, 1, 1, 1, 1, 1, 1, 0, 0, 0, 0, 0, 0, 0, 0, 0, 0], [0.2, 0.2, 0.2, 0.2, 0.2, 0.2, 0.2, 0.2, 0. , 0. , 0. , 0. , 0. , 0. , 0. , 0. , 0. , 0. ], [b'bright_time', b'bright_time', b'bright_time', b'bright_time', b'bright_time', b'bright_time', b'bright_time', b'bright_time', b'', b'', b'', b'', b'', b'', b'', b'', b'', b''], [15., 15., 15., 15., 15., 15., 15., 15.,  0.,  0.,  0.,  0.,  0.,  0.,  0.,  0.,  0.,  0.], [-3., -3., -3., -3., -3., -3., -3., -3.,  0.,  0.,  0.,  0.,  0.,  0.,  0.,  0.,  0.,  0.], [8., 8., 8., 8., 8., 8., 8., 8., 0., 0., 0., 0., 0., 0., 0., 0., 0., 0.], [2., 2., 2., 2., 2., 2., 2., 2., 0., 0., 0., 0., 0., 0., 0., 0., 0., 0.], 'bright_8x1', '_v2')\n",
      "('bright_8x4_v2', 8, [  0.,  30.,  30.,   3.,  27., 270.,  30.,  30.,   0.,   0.,   0.,   0.,   0.,   0.,   0.,   0.,   0.,   0.], [1., 1., 1., 1., 1., 1., 1., 1., 0., 0., 0., 0., 0., 0., 0., 0., 0., 0.], [   0., 1800., 1800., 1800., 1800., 1800., 1800., 1800.,    0.,    0.,    0.,    0.,    0.,    0.,    0.,    0.,    0.,    0.], [0. , 0.5, 0.5, 0.5, 0.5, 0.5, 0.5, 0.5, 0. , 0. , 0. , 0. , 0. , 0. , 0. , 0. , 0. , 0. ], [4, 4, 4, 4, 4, 4, 4, 4, 0, 0, 0, 0, 0, 0, 0, 0, 0, 0], [0.2, 0.2, 0.2, 0.2, 0.2, 0.2, 0.2, 0.2, 0. , 0. , 0. , 0. , 0. , 0. , 0. , 0. , 0. , 0. ], [b'bright_time', b'bright_time', b'bright_time', b'bright_time', b'bright_time', b'bright_time', b'bright_time', b'bright_time', b'', b'', b'', b'', b'', b'', b'', b'', b'', b''], [15., 15., 15., 15., 15., 15., 15., 15.,  0.,  0.,  0.,  0.,  0.,  0.,  0.,  0.,  0.,  0.], [-3., -3., -3., -3., -3., -3., -3., -3.,  0.,  0.,  0.,  0.,  0.,  0.,  0.,  0.,  0.,  0.], [8., 8., 8., 8., 8., 8., 8., 8., 0., 0., 0., 0., 0., 0., 0., 0., 0., 0.], [2., 2., 2., 2., 2., 2., 2., 2., 0., 0., 0., 0., 0., 0., 0., 0., 0., 0.], 'bright_8x4', '_v2')\n"
     ]
    },
    {
     "data": {
      "text/plain": [
       "(True, [[0, 1, 2, 3, 4, 5, 6, 7]])"
      ]
     },
     "execution_count": 59,
     "metadata": {},
     "output_type": "execute_result"
    }
   ],
   "source": [
    "print(cadenceArray[17])\n",
    "print(cadenceArray[19])\n",
    "clist.cadence_consistency('bright_8x1_v2', 'bright_8x4_v2')"
   ]
  },
  {
   "cell_type": "code",
   "execution_count": 60,
   "id": "intended-ebony",
   "metadata": {},
   "outputs": [
    {
     "data": {
      "text/plain": [
       "(True,\n",
       " [[0, 1, 2, 3, 4, 5, 6, 7, 8],\n",
       "  [0, 1, 2, 3, 4, 5, 6, 7, 9],\n",
       "  [0, 1, 2, 3, 4, 5, 6, 8, 9],\n",
       "  [0, 1, 2, 3, 4, 5, 7, 8, 9],\n",
       "  [0, 1, 2, 3, 4, 6, 7, 8, 9],\n",
       "  [0, 1, 2, 3, 5, 6, 7, 8, 9],\n",
       "  [0, 1, 2, 4, 5, 6, 7, 8, 9],\n",
       "  [0, 1, 3, 4, 5, 6, 7, 8, 9],\n",
       "  [0, 2, 3, 4, 5, 6, 7, 8, 9],\n",
       "  [1, 2, 3, 4, 5, 6, 7, 8, 9]])"
      ]
     },
     "execution_count": 60,
     "metadata": {},
     "output_type": "execute_result"
    }
   ],
   "source": [
    "clist.cadence_consistency('bright_9x1_v2', 'dark_10x4_4yr_v2')"
   ]
  },
  {
   "cell_type": "code",
   "execution_count": 61,
   "id": "charged-nothing",
   "metadata": {},
   "outputs": [
    {
     "ename": "KeyError",
     "evalue": "'mixed2_single_22x1_v2'",
     "output_type": "error",
     "traceback": [
      "\u001b[0;31m---------------------------------------------------------------------------\u001b[0m",
      "\u001b[0;31mKeyError\u001b[0m                                  Traceback (most recent call last)",
      "\u001b[0;32m<ipython-input-61-c9e732268c73>\u001b[0m in \u001b[0;36m<module>\u001b[0;34m\u001b[0m\n\u001b[0;32m----> 1\u001b[0;31m \u001b[0mclist\u001b[0m\u001b[0;34m.\u001b[0m\u001b[0mcadence_consistency\u001b[0m\u001b[0;34m(\u001b[0m\u001b[0;34m'bright_18x1_v2'\u001b[0m\u001b[0;34m,\u001b[0m \u001b[0;34m'mixed2_single_22x1_v2'\u001b[0m\u001b[0;34m)\u001b[0m\u001b[0;34m\u001b[0m\u001b[0;34m\u001b[0m\u001b[0m\n\u001b[0m",
      "\u001b[0;32m~/opt/anaconda3/envs/roboscheduler/lib/python3.8/site-packages/roboscheduler/cadence.py\u001b[0m in \u001b[0;36mcadence_consistency\u001b[0;34m(self, one, two, return_solutions, epoch_level, merge_epochs)\u001b[0m\n\u001b[1;32m    439\u001b[0m \u001b[0;34m\u001b[0m\u001b[0m\n\u001b[1;32m    440\u001b[0m         \u001b[0monecc\u001b[0m \u001b[0;34m=\u001b[0m \u001b[0mself\u001b[0m\u001b[0;34m.\u001b[0m\u001b[0mcadences\u001b[0m\u001b[0;34m[\u001b[0m\u001b[0mone\u001b[0m\u001b[0;34m]\u001b[0m\u001b[0;34m.\u001b[0m\u001b[0mas_cadencecore\u001b[0m\u001b[0;34m(\u001b[0m\u001b[0;34m)\u001b[0m\u001b[0;34m\u001b[0m\u001b[0;34m\u001b[0m\u001b[0m\n\u001b[0;32m--> 441\u001b[0;31m         possibles = self.cadences[two].cadence_consistency(onecc,\n\u001b[0m\u001b[1;32m    442\u001b[0m                                                            self.skybrightness_only)\n\u001b[1;32m    443\u001b[0m         \u001b[0msuccess\u001b[0m \u001b[0;34m=\u001b[0m \u001b[0mlen\u001b[0m\u001b[0;34m(\u001b[0m\u001b[0mpossibles\u001b[0m\u001b[0;34m)\u001b[0m \u001b[0;34m>\u001b[0m \u001b[0;36m0\u001b[0m\u001b[0;34m\u001b[0m\u001b[0;34m\u001b[0m\u001b[0m\n",
      "\u001b[0;31mKeyError\u001b[0m: 'mixed2_single_22x1_v2'"
     ]
    }
   ],
   "source": [
    "clist.cadence_consistency('bright_18x1_v2', 'mixed2_single_22x1_v2')"
   ]
  },
  {
   "cell_type": "markdown",
   "id": "perceived-jacksonville",
   "metadata": {},
   "source": [
    "ah, right -- to keep the file simple, we only have the target level cadences in the defaultCadences_v0.5.cfg file.  \n",
    "\n",
    "If we want to load the field level cadences like the mixed2_single or bright_single cadences, we'll need to load those separately.  \n",
    "\n",
    "Thankfully Joleen Carlberg has written a handy script (mixed2_single_cadence_generator.py) that we can use to generate the mixed2_single_cadences_v0.5.1.cfg file.  Let's read that in:"
   ]
  },
  {
   "cell_type": "code",
   "execution_count": 62,
   "id": "strong-recovery",
   "metadata": {},
   "outputs": [],
   "source": [
    "clist.fromcfg('mixed2_single_cadences_v2.cfg')"
   ]
  },
  {
   "cell_type": "markdown",
   "id": "ancient-investing",
   "metadata": {},
   "source": [
    "now let's re-do that test from above..."
   ]
  },
  {
   "cell_type": "code",
   "execution_count": 63,
   "id": "retired-diagnosis",
   "metadata": {},
   "outputs": [
    {
     "data": {
      "text/plain": [
       "(True,\n",
       " [[0, 1, 3, 4, 5, 6, 7, 8, 9, 10, 11, 12, 13, 14, 15, 16, 17, 18],\n",
       "  [0, 2, 3, 4, 5, 6, 7, 8, 9, 10, 11, 12, 13, 14, 15, 16, 17, 18],\n",
       "  [1, 3, 4, 5, 6, 7, 8, 9, 10, 11, 12, 13, 14, 15, 16, 17, 18, 19],\n",
       "  [1, 3, 4, 5, 6, 7, 8, 9, 10, 11, 12, 13, 14, 15, 16, 17, 18, 20],\n",
       "  [1, 3, 4, 5, 6, 7, 8, 9, 10, 11, 12, 13, 14, 15, 16, 17, 18, 21],\n",
       "  [2, 3, 4, 5, 6, 7, 8, 9, 10, 11, 12, 13, 14, 15, 16, 17, 18, 19],\n",
       "  [2, 3, 4, 5, 6, 7, 8, 9, 10, 11, 12, 13, 14, 15, 16, 17, 18, 20],\n",
       "  [2, 3, 4, 5, 6, 7, 8, 9, 10, 11, 12, 13, 14, 15, 16, 17, 18, 21]])"
      ]
     },
     "execution_count": 63,
     "metadata": {},
     "output_type": "execute_result"
    }
   ],
   "source": [
    "clist.cadence_consistency('bright_18x1_v2', 'mixed2_single_22x1_v2')"
   ]
  },
  {
   "cell_type": "markdown",
   "id": "martial-memory",
   "metadata": {},
   "source": [
    "and it works now!  Great.  Let's also read in the bright single cadences (which we can generate using a only slightly hacked version of Joleen's script, saved in bright_single_cadence_generator.py):"
   ]
  },
  {
   "cell_type": "code",
   "execution_count": 64,
   "id": "embedded-bhutan",
   "metadata": {},
   "outputs": [],
   "source": [
    "clist.fromcfg('bright_single_cadences_v2.cfg')"
   ]
  },
  {
   "cell_type": "markdown",
   "id": "optimum-barcelona",
   "metadata": {},
   "source": [
    "and now let's test that the bright single epochs fit within a mixed2 cadence that is slightly longer (since the bright cadence won't fit in the dark epochs of the mixed cadence)."
   ]
  },
  {
   "cell_type": "code",
   "execution_count": 65,
   "id": "reported-papua",
   "metadata": {},
   "outputs": [
    {
     "data": {
      "text/plain": [
       "(True,\n",
       " [[1, 3, 4, 5, 6, 7, 8, 9, 10, 11, 12, 13, 14, 15, 16, 17, 18, 19, 20, 21],\n",
       "  [2, 3, 4, 5, 6, 7, 8, 9, 10, 11, 12, 13, 14, 15, 16, 17, 18, 19, 20, 21]])"
      ]
     },
     "execution_count": 65,
     "metadata": {},
     "output_type": "execute_result"
    }
   ],
   "source": [
    "clist.cadence_consistency('bright_single_20x1_v2', 'mixed2_single_22x1_v2')"
   ]
  },
  {
   "cell_type": "markdown",
   "id": "alpha-survival",
   "metadata": {},
   "source": [
    "now let's set up a default RM cadence.  We'll try to make this follow a front-loaded cadence structure, just to show how we can make a non-uniform cadence, but robostrategy won't sweat the details, as long as the number of epochs are correct."
   ]
  },
  {
   "cell_type": "code",
   "execution_count": 66,
   "id": "hungarian-smart",
   "metadata": {},
   "outputs": [],
   "source": [
    "def RM_obsmode(n_epochs, obsmode):\n",
    "    \n",
    "    obsmodes = np.array(obsmode, dtype=str)\n",
    "    \n",
    "    for i in range(n_epochs-1):\n",
    "        obsmodes = np.append(obsmodes, obsmode)\n",
    "        #print(obsmodes)\n",
    "    #print(len(obsmodes))\n",
    "    return obsmodes"
   ]
  },
  {
   "cell_type": "code",
   "execution_count": 67,
   "id": "identical-poland",
   "metadata": {},
   "outputs": [
    {
     "name": "stdout",
     "output_type": "stream",
     "text": [
      "[8 8 8 8 8 8 8 8 8 8 8 8 8 8 8 8 8 8 8 8 8 8 8 8 8 8 8 8 8 8 8 8 8 8 8 8 8\n",
      " 8 8 8 8 8 8 8 8 8 8 8 8 8 8 8 8 8 8 8 8 8 8 8 8 8 8 8 8 8 8 8 8 8 8 8 8 8\n",
      " 8 8 8 8 8 8 8 8 8 8 8 8 8 8 8 8 8 8 8 8 8 8 8 8 8 8 8 8 8 8 8 8 8 8 8 8 8\n",
      " 8 8 8 8 8 8 8 8 8 8 8 8 8 8 8 8 8 8 8 8 8 8 8 8 8 8 8 8 8 8 8 8 8 8 8 8 8\n",
      " 8 8 8 8 8 8 8 8 8 8 8 8 8 8 8 8 8 8 8 8 8 8 8 8 8 8]\n",
      "[35 35 35 35 35 35 35 35 35 35 35 35 35 35 35 35 35 35 35 35 35 35 35 35\n",
      " 35 35 35 35 35 35 35 35 35 35 35 35 35 35 35 35 35 35 35 35 35 35 35 35\n",
      " 35 35 35 35 35 35 35 35 35 35 35 35 35 35 35 35 35 35 35 35 35 35 35 35\n",
      " 35 35 35 35 35 35 35 35 35 35 35 35 35 35 35 35 35 35 35 35 35 35 35 35\n",
      " 35 35 35 35 35 35 35 35 35 35 35 35 35 35 35 35 35 35 35 35 35 35 35 35\n",
      " 35 35 35 35 35 35 35 35 35 35 35 35 35 35 35 35 35 35 35 35 35 35 35 35\n",
      " 35 35 35 35 35 35 35 35 35 35 35 35 35 35 35 35 35 35 35 35 35 35 35 35\n",
      " 35 35 35 35 35 35]\n",
      "[-1.5 -1.5 -1.5 -1.5 -1.5 -1.5 -1.5 -1.5 -1.5 -1.5 -1.5 -1.5 -1.5 -1.5\n",
      " -1.5 -1.5 -1.5 -1.5 -1.5 -1.5 -1.5 -1.5 -1.5 -1.5 -1.5 -1.5 -1.5 -1.5\n",
      " -1.5 -1.5 -1.5 -1.5 -1.5 -1.5 -1.5 -1.5 -1.5 -1.5 -1.5 -1.5 -1.5 -1.5\n",
      " -1.5 -1.5 -1.5 -1.5 -1.5 -1.5 -1.5 -1.5 -1.5 -1.5 -1.5 -1.5 -1.5 -1.5\n",
      " -1.5 -1.5 -1.5 -1.5 -1.5 -1.5 -1.5 -1.5 -1.5 -1.5 -1.5 -1.5 -1.5 -1.5\n",
      " -1.5 -1.5 -1.5 -1.5 -1.5 -1.5 -1.5 -1.5 -1.5 -1.5 -1.5 -1.5 -1.5 -1.5\n",
      " -1.5 -1.5 -1.5 -1.5 -1.5 -1.5 -1.5 -1.5 -1.5 -1.5 -1.5 -1.5 -1.5 -1.5\n",
      " -1.5 -1.5 -1.5 -1.5 -1.5 -1.5 -1.5 -1.5 -1.5 -1.5 -1.5 -1.5 -1.5 -1.5\n",
      " -1.5 -1.5 -1.5 -1.5 -1.5 -1.5 -1.5 -1.5 -1.5 -1.5 -1.5 -1.5 -1.5 -1.5\n",
      " -1.5 -1.5 -1.5 -1.5 -1.5 -1.5 -1.5 -1.5 -1.5 -1.5 -1.5 -1.5 -1.5 -1.5\n",
      " -1.5 -1.5 -1.5 -1.5 -1.5 -1.5 -1.5 -1.5 -1.5 -1.5 -1.5 -1.5 -1.5 -1.5\n",
      " -1.5 -1.5 -1.5 -1.5 -1.5 -1.5 -1.5 -1.5 -1.5 -1.5 -1.5 -1.5 -1.5 -1.5\n",
      " -1.5 -1.5 -1.5 -1.5 -1.5 -1.5]\n"
     ]
    }
   ],
   "source": [
    "#begin building a default (front-loaded) RM cadence\n",
    "\n",
    "rm_label_root = 'dark_174x8'\n",
    "rm_label_version = '_v2'\n",
    "\n",
    "rm_obsmodes = RM_obsmode(174, 'dark_rm')\n",
    "\n",
    "#set up the skybrightness and nexp constraints (which are always 0.35 and 8, respectively)\n",
    "RM_bright = np.ones(174)*0.35\n",
    "RM_exps = np.ones(174, dtype=np.int32)*8\n",
    "RM_min_moon_sep = np.ones(174, dtype=np.int32)*35\n",
    "RM_deltav_ks91 = np.ones(174)*(-1.5)\n",
    "RM_twilight_ang = np.ones(174, dtype=np.int32)*15\n",
    "RM_max_airmass = np.ones(174)*1.4\n",
    "\n",
    "print(RM_exps)\n",
    "print(RM_min_moon_sep)\n",
    "print(RM_deltav_ks91)"
   ]
  },
  {
   "cell_type": "code",
   "execution_count": 68,
   "id": "directed-surname",
   "metadata": {},
   "outputs": [],
   "source": [
    "def RM_timing(n_dense, dense_gap, n_sparse, sparse_gap, seasonal_gap):\n",
    "    \n",
    "    #initially, n_dense = 61, dense_gap = 3., n_sparse = 22, sparse_gap = 7, seasonal gap = 183\n",
    "    \n",
    "    #set up a season of epochs separated by three days \n",
    "    #(in the future we'll have to add gaps for bright runs, but let's keep it simple for now)\n",
    "    RMdeltas_denselyPacked = np.ones(n_dense)*dense_gap\n",
    "    RMdeltaMins_denselyPacked = np.ones(n_dense)*dense_gap/2.\n",
    "    RMdeltaMaxes_denselyPacked = np.ones(n_dense)*dense_gap*1.5\n",
    "    \n",
    "    #add on the seasonal gap\n",
    "    RMdeltas = np.append(RMdeltas_denselyPacked, seasonal_gap)\n",
    "    RMdeltaMins = np.append(RMdeltaMins_denselyPacked, seasonal_gap-3)\n",
    "    RMdeltaMaxes = np.append(RMdeltaMaxes_denselyPacked, seasonal_gap+3)\n",
    "\n",
    "    #now add on another season (with the gap!))\n",
    "    RMdeltas = np.append(RMdeltas, RMdeltas)\n",
    "    RMdeltaMins = np.append(RMdeltaMins, RMdeltaMins)\n",
    "    RMdeltaMaxes = np.append(RMdeltaMaxes, RMdeltaMaxes)\n",
    "\n",
    "    #now fill in the maxlengths for both seasons (123 epochs)\n",
    "    maxlengths = np.ones((n_dense+1)*2)*(dense_gap-0.5)\n",
    "    \n",
    "    \n",
    "    #now add on some sparser seasons\n",
    "    RMdeltas_looselyPacked = np.ones(n_sparse)*sparse_gap\n",
    "    RMdeltaMins_looselyPacked = np.ones(n_sparse)*sparse_gap/2.\n",
    "    RMdeltaMaxes_looselyPacked = np.ones(n_sparse)*(sparse_gap+3)\n",
    "\n",
    "    #and append first of two sparsely packed seasons\n",
    "    RMdeltas = np.append(RMdeltas, RMdeltas_looselyPacked)\n",
    "    RMdeltaMins = np.append(RMdeltaMins, RMdeltaMins_looselyPacked)\n",
    "    RMdeltaMaxes = np.append(RMdeltaMaxes, RMdeltaMaxes_looselyPacked)\n",
    "\n",
    "    #add on the seasonal gap\n",
    "    RMdeltas = np.append(RMdeltas, seasonal_gap)\n",
    "    RMdeltaMins = np.append(RMdeltaMins, seasonal_gap-3)\n",
    "    RMdeltaMaxes = np.append(RMdeltaMaxes, seasonal_gap+3)\n",
    "\n",
    "    #and append another sparsely packed season\n",
    "    RMdeltas = np.append(RMdeltas, RMdeltas_looselyPacked)\n",
    "    RMdeltaMins = np.append(RMdeltaMins, RMdeltaMins_looselyPacked)\n",
    "    RMdeltaMaxes = np.append(RMdeltaMaxes, RMdeltaMaxes_looselyPacked)\n",
    "\n",
    "    #add on the seasonal gap\n",
    "    RMdeltas = np.append(RMdeltas, seasonal_gap)\n",
    "    RMdeltaMins = np.append(RMdeltaMins, seasonal_gap-3)\n",
    "    RMdeltaMaxes = np.append(RMdeltaMaxes, seasonal_gap+3)\n",
    "\n",
    "    #add the longer max lengths\n",
    "    more_maxlengths = np.ones( (n_sparse+1)*2)*(dense_gap-0.5)\n",
    "    RM_maxlengths = np.append(maxlengths, more_maxlengths)\n",
    "\n",
    "    \n",
    "    #and fill out the rest of the array\n",
    "    n_tail = 4\n",
    "    tail_gap = 30.\n",
    "    \n",
    "    #and finally another 4 epochs spaced one month apart\n",
    "    RMdeltas_loosestPacked = np.ones(n_tail)*tail_gap\n",
    "    RMdeltaMins_loosestPacked = np.ones(n_tail)*tail_gap/2.\n",
    "    RMdeltaMaxes_loosestPacked = np.ones(n_tail)*tail_gap*1.5\n",
    "\n",
    "    #and append the last season\n",
    "    RMdeltas = np.append(RMdeltas, RMdeltas_loosestPacked)\n",
    "    RMdeltaMins = np.append(RMdeltaMins, RMdeltaMins_loosestPacked)\n",
    "    RMdeltaMaxes = np.append(RMdeltaMaxes, RMdeltaMaxes_loosestPacked)\n",
    "\n",
    "    last_maxlengths = np.ones(n_tail)*(dense_gap-0.5)\n",
    "    RM_maxlengths = np.append(RM_maxlengths, last_maxlengths)\n",
    "\n",
    "    #check that everything turned out the right length\n",
    "    #print(len(RM_maxlengths))\n",
    "    #print(len(RMdeltas))\n",
    "    \n",
    "    return RMdeltas, RMdeltaMins, RMdeltaMaxes, RM_maxlengths"
   ]
  },
  {
   "cell_type": "code",
   "execution_count": 69,
   "id": "entire-classics",
   "metadata": {},
   "outputs": [],
   "source": [
    "n_dense = 61\n",
    "dense_gap = 3.0\n",
    "n_sparse = 22\n",
    "sparse_gap = 7.\n",
    "seasonal_gap = 183.\n",
    "\n",
    "RMdeltas, RMdeltaMins, RMdeltaMaxes, RM_maxlengths = RM_timing(n_dense, dense_gap, n_sparse, sparse_gap, seasonal_gap)"
   ]
  },
  {
   "cell_type": "code",
   "execution_count": 70,
   "id": "global-guest",
   "metadata": {},
   "outputs": [],
   "source": [
    "#now let's add this RM cadence to our cadence list\n",
    "clist.add_cadence(name=rm_label_root+rm_label_version, nepochs = 174, nexp = RM_exps, skybrightness = RM_bright, \n",
    "                            delta = RMdeltas, delta_min = RMdeltaMins, delta_max = RMdeltaMaxes, \n",
    "                            max_length = RM_maxlengths, obsmode_pk = rm_obsmodes, \n",
    "                            label_root = rm_label_root, label_version = rm_label_version, \n",
    "                            min_moon_sep = RM_min_moon_sep, min_deltav_ks91 = RM_deltav_ks91, \n",
    "                            min_twilight_ang = RM_twilight_ang, max_airmass = RM_max_airmass)"
   ]
  },
  {
   "cell_type": "code",
   "execution_count": 71,
   "id": "danish-christmas",
   "metadata": {},
   "outputs": [
    {
     "data": {
      "text/plain": [
       "(False, [])"
      ]
     },
     "execution_count": 71,
     "metadata": {},
     "output_type": "execute_result"
    }
   ],
   "source": [
    "clist.cadence_consistency('dark_10x4_4yr_v2', 'dark_174x8_v2')"
   ]
  },
  {
   "cell_type": "code",
   "execution_count": 72,
   "id": "accredited-routine",
   "metadata": {},
   "outputs": [],
   "source": [
    "#now lets add an RM lite cadence\n",
    "\n",
    "rm_lite_label_root = 'dark_100x8'\n",
    "rm_lite_label_version = '_v2'\n",
    "\n",
    "rm_lite_obsmodes = RM_obsmode(100, 'dark_rm')\n",
    "\n",
    "#set up the skybrightness and nexp constraints (which are always 0.35 and 8, respectively)\n",
    "RM_lite_bright = np.ones(100)*0.35\n",
    "RM_lite_exps = np.ones(100, dtype=np.int32)*8\n",
    "\n",
    "RM_lite_min_moon_sep = np.ones(100, dtype=np.int32)*35\n",
    "RM_lite_deltav_ks91 = np.ones(100)*(-1.5)\n",
    "RM_lite_twilight_ang = np.ones(100, dtype=np.int32)*15\n",
    "RM_lite_max_airmass = np.ones(100)*1.4\n",
    "\n",
    "#set up the timing constraints\n",
    "n_lite_dense = 32\n",
    "dense_lite_gap = 3.0\n",
    "n_lite_sparse = 14\n",
    "sparse_lite_gap = 10.\n",
    "seasonal_lite_gap = 183.\n",
    "\n",
    "#fill out the arrays\n",
    "RMdeltas_lite, RMdeltaMins_lite, RMdeltaMaxes_lite, RM_maxlengths_lite = RM_timing(n_lite_dense, dense_lite_gap, n_lite_sparse, sparse_lite_gap, seasonal_lite_gap)\n",
    "\n",
    "#now let's add this RM cadence to our cadence list\n",
    "clist.add_cadence(name=rm_lite_label_root+rm_lite_label_version, nepochs = 100, nexp = RM_lite_exps, \n",
    "                  skybrightness = RM_lite_bright, delta = RMdeltas_lite, delta_min = RMdeltaMins_lite, \n",
    "                  delta_max = RMdeltaMaxes_lite, max_length = RM_maxlengths_lite, obsmode_pk = rm_lite_obsmodes, \n",
    "                            label_root = rm_lite_label_root, label_version = rm_lite_label_version, \n",
    "                            min_moon_sep = RM_lite_min_moon_sep, min_deltav_ks91 = RM_lite_deltav_ks91, \n",
    "                            min_twilight_ang = RM_lite_twilight_ang, max_airmass = RM_lite_max_airmass)"
   ]
  },
  {
   "cell_type": "code",
   "execution_count": 73,
   "id": "played-thesaurus",
   "metadata": {},
   "outputs": [
    {
     "data": {
      "text/plain": [
       "(False, [])"
      ]
     },
     "execution_count": 73,
     "metadata": {},
     "output_type": "execute_result"
    }
   ],
   "source": [
    "clist.cadence_consistency('dark_100x8_v2', 'dark_174x8_v2')"
   ]
  },
  {
   "cell_type": "code",
   "execution_count": 74,
   "id": "sudden-grave",
   "metadata": {},
   "outputs": [
    {
     "data": {
      "text/plain": [
       "(True,\n",
       " [[0, 1, 2, 3, 4],\n",
       "  [0, 1, 2, 3, 5],\n",
       "  [0, 1, 2, 3, 6],\n",
       "  [0, 1, 2, 3, 7],\n",
       "  [0, 1, 2, 3, 8],\n",
       "  [0, 1, 2, 3, 9],\n",
       "  [0, 1, 2, 4, 5],\n",
       "  [0, 1, 2, 4, 6],\n",
       "  [0, 1, 2, 4, 7],\n",
       "  [0, 1, 2, 4, 8],\n",
       "  [0, 1, 2, 4, 9],\n",
       "  [0, 1, 2, 5, 6],\n",
       "  [0, 1, 2, 5, 7],\n",
       "  [0, 1, 2, 5, 8],\n",
       "  [0, 1, 2, 5, 9],\n",
       "  [0, 1, 2, 6, 7],\n",
       "  [0, 1, 2, 6, 8],\n",
       "  [0, 1, 2, 6, 9],\n",
       "  [0, 1, 2, 7, 8],\n",
       "  [0, 1, 2, 7, 9],\n",
       "  [0, 1, 2, 8, 9],\n",
       "  [0, 1, 3, 4, 5],\n",
       "  [0, 1, 3, 4, 6],\n",
       "  [0, 1, 3, 4, 7],\n",
       "  [0, 1, 3, 4, 8],\n",
       "  [0, 1, 3, 4, 9],\n",
       "  [0, 1, 3, 5, 6],\n",
       "  [0, 1, 3, 5, 7],\n",
       "  [0, 1, 3, 5, 8],\n",
       "  [0, 1, 3, 5, 9],\n",
       "  [0, 1, 3, 6, 7],\n",
       "  [0, 1, 3, 6, 8],\n",
       "  [0, 1, 3, 6, 9],\n",
       "  [0, 1, 3, 7, 8],\n",
       "  [0, 1, 3, 7, 9],\n",
       "  [0, 1, 3, 8, 9],\n",
       "  [0, 1, 4, 5, 6],\n",
       "  [0, 1, 4, 5, 7],\n",
       "  [0, 1, 4, 5, 8],\n",
       "  [0, 1, 4, 5, 9],\n",
       "  [0, 1, 4, 6, 7],\n",
       "  [0, 1, 4, 6, 8],\n",
       "  [0, 1, 4, 6, 9],\n",
       "  [0, 1, 4, 7, 8],\n",
       "  [0, 1, 4, 7, 9],\n",
       "  [0, 1, 4, 8, 9],\n",
       "  [0, 1, 5, 6, 7],\n",
       "  [0, 1, 5, 6, 8],\n",
       "  [0, 1, 5, 6, 9],\n",
       "  [0, 1, 5, 7, 8],\n",
       "  [0, 1, 5, 7, 9],\n",
       "  [0, 1, 5, 8, 9],\n",
       "  [0, 1, 6, 7, 8],\n",
       "  [0, 1, 6, 7, 9],\n",
       "  [0, 1, 6, 8, 9],\n",
       "  [0, 1, 7, 8, 9],\n",
       "  [0, 2, 3, 4, 5],\n",
       "  [0, 2, 3, 4, 6],\n",
       "  [0, 2, 3, 4, 7],\n",
       "  [0, 2, 3, 4, 8],\n",
       "  [0, 2, 3, 4, 9],\n",
       "  [0, 2, 3, 5, 6],\n",
       "  [0, 2, 3, 5, 7],\n",
       "  [0, 2, 3, 5, 8],\n",
       "  [0, 2, 3, 5, 9],\n",
       "  [0, 2, 3, 6, 7],\n",
       "  [0, 2, 3, 6, 8],\n",
       "  [0, 2, 3, 6, 9],\n",
       "  [0, 2, 3, 7, 8],\n",
       "  [0, 2, 3, 7, 9],\n",
       "  [0, 2, 3, 8, 9],\n",
       "  [0, 2, 4, 5, 6],\n",
       "  [0, 2, 4, 5, 7],\n",
       "  [0, 2, 4, 5, 8],\n",
       "  [0, 2, 4, 5, 9],\n",
       "  [0, 2, 4, 6, 7],\n",
       "  [0, 2, 4, 6, 8],\n",
       "  [0, 2, 4, 6, 9],\n",
       "  [0, 2, 4, 7, 8],\n",
       "  [0, 2, 4, 7, 9],\n",
       "  [0, 2, 4, 8, 9],\n",
       "  [0, 2, 5, 6, 7],\n",
       "  [0, 2, 5, 6, 8],\n",
       "  [0, 2, 5, 6, 9],\n",
       "  [0, 2, 5, 7, 8],\n",
       "  [0, 2, 5, 7, 9],\n",
       "  [0, 2, 5, 8, 9],\n",
       "  [0, 2, 6, 7, 8],\n",
       "  [0, 2, 6, 7, 9],\n",
       "  [0, 2, 6, 8, 9],\n",
       "  [0, 2, 7, 8, 9],\n",
       "  [0, 3, 4, 5, 6],\n",
       "  [0, 3, 4, 5, 7],\n",
       "  [0, 3, 4, 5, 8],\n",
       "  [0, 3, 4, 5, 9],\n",
       "  [0, 3, 4, 6, 7],\n",
       "  [0, 3, 4, 6, 8],\n",
       "  [0, 3, 4, 6, 9],\n",
       "  [0, 3, 4, 7, 8],\n",
       "  [0, 3, 4, 7, 9],\n",
       "  [0, 3, 4, 8, 9],\n",
       "  [0, 3, 5, 6, 7],\n",
       "  [0, 3, 5, 6, 8],\n",
       "  [0, 3, 5, 6, 9],\n",
       "  [0, 3, 5, 7, 8],\n",
       "  [0, 3, 5, 7, 9],\n",
       "  [0, 3, 5, 8, 9],\n",
       "  [0, 3, 6, 7, 8],\n",
       "  [0, 3, 6, 7, 9],\n",
       "  [0, 3, 6, 8, 9],\n",
       "  [0, 3, 7, 8, 9],\n",
       "  [0, 4, 5, 6, 7],\n",
       "  [0, 4, 5, 6, 8],\n",
       "  [0, 4, 5, 6, 9],\n",
       "  [0, 4, 5, 7, 8],\n",
       "  [0, 4, 5, 7, 9],\n",
       "  [0, 4, 5, 8, 9],\n",
       "  [0, 4, 6, 7, 8],\n",
       "  [0, 4, 6, 7, 9],\n",
       "  [0, 4, 6, 8, 9],\n",
       "  [0, 4, 7, 8, 9],\n",
       "  [0, 5, 6, 7, 8],\n",
       "  [0, 5, 6, 7, 9],\n",
       "  [0, 5, 6, 8, 9],\n",
       "  [0, 5, 7, 8, 9],\n",
       "  [0, 6, 7, 8, 9],\n",
       "  [1, 2, 3, 4, 5],\n",
       "  [1, 2, 3, 4, 6],\n",
       "  [1, 2, 3, 4, 7],\n",
       "  [1, 2, 3, 4, 8],\n",
       "  [1, 2, 3, 4, 9],\n",
       "  [1, 2, 3, 5, 6],\n",
       "  [1, 2, 3, 5, 7],\n",
       "  [1, 2, 3, 5, 8],\n",
       "  [1, 2, 3, 5, 9],\n",
       "  [1, 2, 3, 6, 7],\n",
       "  [1, 2, 3, 6, 8],\n",
       "  [1, 2, 3, 6, 9],\n",
       "  [1, 2, 3, 7, 8],\n",
       "  [1, 2, 3, 7, 9],\n",
       "  [1, 2, 3, 8, 9],\n",
       "  [1, 2, 4, 5, 6],\n",
       "  [1, 2, 4, 5, 7],\n",
       "  [1, 2, 4, 5, 8],\n",
       "  [1, 2, 4, 5, 9],\n",
       "  [1, 2, 4, 6, 7],\n",
       "  [1, 2, 4, 6, 8],\n",
       "  [1, 2, 4, 6, 9],\n",
       "  [1, 2, 4, 7, 8],\n",
       "  [1, 2, 4, 7, 9],\n",
       "  [1, 2, 4, 8, 9],\n",
       "  [1, 2, 5, 6, 7],\n",
       "  [1, 2, 5, 6, 8],\n",
       "  [1, 2, 5, 6, 9],\n",
       "  [1, 2, 5, 7, 8],\n",
       "  [1, 2, 5, 7, 9],\n",
       "  [1, 2, 5, 8, 9],\n",
       "  [1, 2, 6, 7, 8],\n",
       "  [1, 2, 6, 7, 9],\n",
       "  [1, 2, 6, 8, 9],\n",
       "  [1, 2, 7, 8, 9],\n",
       "  [1, 3, 4, 5, 6],\n",
       "  [1, 3, 4, 5, 7],\n",
       "  [1, 3, 4, 5, 8],\n",
       "  [1, 3, 4, 5, 9],\n",
       "  [1, 3, 4, 6, 7],\n",
       "  [1, 3, 4, 6, 8],\n",
       "  [1, 3, 4, 6, 9],\n",
       "  [1, 3, 4, 7, 8],\n",
       "  [1, 3, 4, 7, 9],\n",
       "  [1, 3, 4, 8, 9],\n",
       "  [1, 3, 5, 6, 7],\n",
       "  [1, 3, 5, 6, 8],\n",
       "  [1, 3, 5, 6, 9],\n",
       "  [1, 3, 5, 7, 8],\n",
       "  [1, 3, 5, 7, 9],\n",
       "  [1, 3, 5, 8, 9],\n",
       "  [1, 3, 6, 7, 8],\n",
       "  [1, 3, 6, 7, 9],\n",
       "  [1, 3, 6, 8, 9],\n",
       "  [1, 3, 7, 8, 9],\n",
       "  [1, 4, 5, 6, 7],\n",
       "  [1, 4, 5, 6, 8],\n",
       "  [1, 4, 5, 6, 9],\n",
       "  [1, 4, 5, 7, 8],\n",
       "  [1, 4, 5, 7, 9],\n",
       "  [1, 4, 5, 8, 9],\n",
       "  [1, 4, 6, 7, 8],\n",
       "  [1, 4, 6, 7, 9],\n",
       "  [1, 4, 6, 8, 9],\n",
       "  [1, 4, 7, 8, 9],\n",
       "  [1, 5, 6, 7, 8],\n",
       "  [1, 5, 6, 7, 9],\n",
       "  [1, 5, 6, 8, 9],\n",
       "  [1, 5, 7, 8, 9],\n",
       "  [1, 6, 7, 8, 9],\n",
       "  [2, 3, 4, 5, 6],\n",
       "  [2, 3, 4, 5, 7],\n",
       "  [2, 3, 4, 5, 8],\n",
       "  [2, 3, 4, 5, 9],\n",
       "  [2, 3, 4, 6, 7],\n",
       "  [2, 3, 4, 6, 8],\n",
       "  [2, 3, 4, 6, 9],\n",
       "  [2, 3, 4, 7, 8],\n",
       "  [2, 3, 4, 7, 9],\n",
       "  [2, 3, 4, 8, 9],\n",
       "  [2, 3, 5, 6, 7],\n",
       "  [2, 3, 5, 6, 8],\n",
       "  [2, 3, 5, 6, 9],\n",
       "  [2, 3, 5, 7, 8],\n",
       "  [2, 3, 5, 7, 9],\n",
       "  [2, 3, 5, 8, 9],\n",
       "  [2, 3, 6, 7, 8],\n",
       "  [2, 3, 6, 7, 9],\n",
       "  [2, 3, 6, 8, 9],\n",
       "  [2, 3, 7, 8, 9],\n",
       "  [2, 4, 5, 6, 7],\n",
       "  [2, 4, 5, 6, 8],\n",
       "  [2, 4, 5, 6, 9],\n",
       "  [2, 4, 5, 7, 8],\n",
       "  [2, 4, 5, 7, 9],\n",
       "  [2, 4, 5, 8, 9],\n",
       "  [2, 4, 6, 7, 8],\n",
       "  [2, 4, 6, 7, 9],\n",
       "  [2, 4, 6, 8, 9],\n",
       "  [2, 4, 7, 8, 9],\n",
       "  [2, 5, 6, 7, 8],\n",
       "  [2, 5, 6, 7, 9],\n",
       "  [2, 5, 6, 8, 9],\n",
       "  [2, 5, 7, 8, 9],\n",
       "  [2, 6, 7, 8, 9],\n",
       "  [3, 4, 5, 6, 7],\n",
       "  [3, 4, 5, 6, 8],\n",
       "  [3, 4, 5, 6, 9],\n",
       "  [3, 4, 5, 7, 8],\n",
       "  [3, 4, 5, 7, 9],\n",
       "  [3, 4, 5, 8, 9],\n",
       "  [3, 4, 6, 7, 8],\n",
       "  [3, 4, 6, 7, 9],\n",
       "  [3, 4, 6, 8, 9],\n",
       "  [3, 4, 7, 8, 9],\n",
       "  [3, 5, 6, 7, 8],\n",
       "  [3, 5, 6, 7, 9],\n",
       "  [3, 5, 6, 8, 9],\n",
       "  [3, 5, 7, 8, 9],\n",
       "  [3, 6, 7, 8, 9],\n",
       "  [4, 5, 6, 7, 8],\n",
       "  [4, 5, 6, 7, 9],\n",
       "  [4, 5, 6, 8, 9],\n",
       "  [4, 5, 7, 8, 9],\n",
       "  [4, 6, 7, 8, 9],\n",
       "  [5, 6, 7, 8, 9]])"
      ]
     },
     "execution_count": 74,
     "metadata": {},
     "output_type": "execute_result"
    }
   ],
   "source": [
    "clist.cadence_consistency('bright_5x1_v2', 'dark_10x4_4yr_v2')"
   ]
  },
  {
   "cell_type": "markdown",
   "id": "undefined-precipitation",
   "metadata": {},
   "source": [
    "Now let's write this cadence array out to a FITS file for easy transportation:"
   ]
  },
  {
   "cell_type": "code",
   "execution_count": 75,
   "id": "corresponding-student",
   "metadata": {},
   "outputs": [
    {
     "name": "stdout",
     "output_type": "stream",
     "text": [
      "238\n",
      "('dark_3x4_v2', 3, [  0., 365., 365.,   0.,   0.,   0.,   0.,   0.,   0.,   0.,   0.,   0.,   0.,   0.,   0.,   0.,   0.,   0.,   0.,   0.,   0.,   0.,   0.,   0.,   0.,   0.,   0.,   0.,   0.,   0.,   0.,   0.,   0.,   0.,   0.,   0.,   0.,   0.,   0.,   0.,   0.,   0.,   0.,   0.,   0.,   0.,   0.,   0.,   0.,   0.,   0.,   0.,   0.,   0.,   0.,   0.,   0.,   0.,   0.,   0.,   0.,   0.,   0.,   0.,   0.,   0.,   0.,   0.,   0.,   0.,   0.,   0.,   0.,   0.,   0.,   0.,   0.,   0.,   0.,   0.,   0.,   0.,   0.,   0.,   0.,   0.,   0.,   0.,   0.,   0.,   0.,   0.,   0.,   0.,   0.,   0.,   0.,   0.,   0.,   0.,   0.,   0.,   0.,   0.,   0.,   0.,   0.,   0.,   0.,   0.,   0.,   0.,   0.,   0.,   0.,   0.,   0.,   0.,   0.,   0.,   0.,   0.,   0.,   0.,   0.,   0.,   0.,   0.,   0.,   0.,   0.,   0.,   0.,   0.,   0.,   0.,   0.,   0.,   0.,   0.,   0.,   0.,   0.,   0.,   0.,   0.,   0.,   0.,   0.,   0.,   0.,   0.,   0.,   0.,   0.,   0.,   0.,   0.,   0.,   0.,   0.,   0.,   0.,   0.,   0.,   0.,   0.,   0.,   0.,   0.,   0.,   0.,   0.,   0.], [0.35, 0.35, 0.35, 0.  , 0.  , 0.  , 0.  , 0.  , 0.  , 0.  , 0.  , 0.  , 0.  , 0.  , 0.  , 0.  , 0.  , 0.  , 0.  , 0.  , 0.  , 0.  , 0.  , 0.  , 0.  , 0.  , 0.  , 0.  , 0.  , 0.  , 0.  , 0.  , 0.  , 0.  , 0.  , 0.  , 0.  , 0.  , 0.  , 0.  , 0.  , 0.  , 0.  , 0.  , 0.  , 0.  , 0.  , 0.  , 0.  , 0.  , 0.  , 0.  , 0.  , 0.  , 0.  , 0.  , 0.  , 0.  , 0.  , 0.  , 0.  , 0.  , 0.  , 0.  , 0.  , 0.  , 0.  , 0.  , 0.  , 0.  , 0.  , 0.  , 0.  , 0.  , 0.  , 0.  , 0.  , 0.  , 0.  , 0.  , 0.  , 0.  , 0.  , 0.  , 0.  , 0.  , 0.  , 0.  , 0.  , 0.  , 0.  , 0.  , 0.  , 0.  , 0.  , 0.  , 0.  , 0.  , 0.  , 0.  , 0.  , 0.  , 0.  , 0.  , 0.  , 0.  , 0.  , 0.  , 0.  , 0.  , 0.  , 0.  , 0.  , 0.  , 0.  , 0.  , 0.  , 0.  , 0.  , 0.  , 0.  , 0.  , 0.  , 0.  , 0.  , 0.  , 0.  , 0.  , 0.  , 0.  , 0.  , 0.  , 0.  , 0.  , 0.  , 0.  , 0.  , 0.  , 0.  , 0.  , 0.  , 0.  , 0.  , 0.  , 0.  , 0.  , 0.  , 0.  , 0.  , 0.  , 0.  , 0.  , 0.  , 0.  , 0.  , 0.  , 0.  , 0.  , 0.  , 0.  , 0.  , 0.  , 0.  , 0.  , 0.  , 0.  , 0.  , 0.  , 0.  , 0.  , 0.  , 0.  , 0.  , 0.  ], [  0., 600., 600.,   0.,   0.,   0.,   0.,   0.,   0.,   0.,   0.,   0.,   0.,   0.,   0.,   0.,   0.,   0.,   0.,   0.,   0.,   0.,   0.,   0.,   0.,   0.,   0.,   0.,   0.,   0.,   0.,   0.,   0.,   0.,   0.,   0.,   0.,   0.,   0.,   0.,   0.,   0.,   0.,   0.,   0.,   0.,   0.,   0.,   0.,   0.,   0.,   0.,   0.,   0.,   0.,   0.,   0.,   0.,   0.,   0.,   0.,   0.,   0.,   0.,   0.,   0.,   0.,   0.,   0.,   0.,   0.,   0.,   0.,   0.,   0.,   0.,   0.,   0.,   0.,   0.,   0.,   0.,   0.,   0.,   0.,   0.,   0.,   0.,   0.,   0.,   0.,   0.,   0.,   0.,   0.,   0.,   0.,   0.,   0.,   0.,   0.,   0.,   0.,   0.,   0.,   0.,   0.,   0.,   0.,   0.,   0.,   0.,   0.,   0.,   0.,   0.,   0.,   0.,   0.,   0.,   0.,   0.,   0.,   0.,   0.,   0.,   0.,   0.,   0.,   0.,   0.,   0.,   0.,   0.,   0.,   0.,   0.,   0.,   0.,   0.,   0.,   0.,   0.,   0.,   0.,   0.,   0.,   0.,   0.,   0.,   0.,   0.,   0.,   0.,   0.,   0.,   0.,   0.,   0.,   0.,   0.,   0.,   0.,   0.,   0.,   0.,   0.,   0.,   0.,   0.,   0.,   0.,   0.,   0.], [  0., 300., 300.,   0.,   0.,   0.,   0.,   0.,   0.,   0.,   0.,   0.,   0.,   0.,   0.,   0.,   0.,   0.,   0.,   0.,   0.,   0.,   0.,   0.,   0.,   0.,   0.,   0.,   0.,   0.,   0.,   0.,   0.,   0.,   0.,   0.,   0.,   0.,   0.,   0.,   0.,   0.,   0.,   0.,   0.,   0.,   0.,   0.,   0.,   0.,   0.,   0.,   0.,   0.,   0.,   0.,   0.,   0.,   0.,   0.,   0.,   0.,   0.,   0.,   0.,   0.,   0.,   0.,   0.,   0.,   0.,   0.,   0.,   0.,   0.,   0.,   0.,   0.,   0.,   0.,   0.,   0.,   0.,   0.,   0.,   0.,   0.,   0.,   0.,   0.,   0.,   0.,   0.,   0.,   0.,   0.,   0.,   0.,   0.,   0.,   0.,   0.,   0.,   0.,   0.,   0.,   0.,   0.,   0.,   0.,   0.,   0.,   0.,   0.,   0.,   0.,   0.,   0.,   0.,   0.,   0.,   0.,   0.,   0.,   0.,   0.,   0.,   0.,   0.,   0.,   0.,   0.,   0.,   0.,   0.,   0.,   0.,   0.,   0.,   0.,   0.,   0.,   0.,   0.,   0.,   0.,   0.,   0.,   0.,   0.,   0.,   0.,   0.,   0.,   0.,   0.,   0.,   0.,   0.,   0.,   0.,   0.,   0.,   0.,   0.,   0.,   0.,   0.,   0.,   0.,   0.,   0.,   0.,   0.], [4, 4, 4, 0, 0, 0, 0, 0, 0, 0, 0, 0, 0, 0, 0, 0, 0, 0, 0, 0, 0, 0, 0, 0, 0, 0, 0, 0, 0, 0, 0, 0, 0, 0, 0, 0, 0, 0, 0, 0, 0, 0, 0, 0, 0, 0, 0, 0, 0, 0, 0, 0, 0, 0, 0, 0, 0, 0, 0, 0, 0, 0, 0, 0, 0, 0, 0, 0, 0, 0, 0, 0, 0, 0, 0, 0, 0, 0, 0, 0, 0, 0, 0, 0, 0, 0, 0, 0, 0, 0, 0, 0, 0, 0, 0, 0, 0, 0, 0, 0, 0, 0, 0, 0, 0, 0, 0, 0, 0, 0, 0, 0, 0, 0, 0, 0, 0, 0, 0, 0, 0, 0, 0, 0, 0, 0, 0, 0, 0, 0, 0, 0, 0, 0, 0, 0, 0, 0, 0, 0, 0, 0, 0, 0, 0, 0, 0, 0, 0, 0, 0, 0, 0, 0, 0, 0, 0, 0, 0, 0, 0, 0, 0, 0, 0, 0, 0, 0, 0, 0, 0, 0, 0, 0], [14., 14., 14.,  0.,  0.,  0.,  0.,  0.,  0.,  0.,  0.,  0.,  0.,  0.,  0.,  0.,  0.,  0.,  0.,  0.,  0.,  0.,  0.,  0.,  0.,  0.,  0.,  0.,  0.,  0.,  0.,  0.,  0.,  0.,  0.,  0.,  0.,  0.,  0.,  0.,  0.,  0.,  0.,  0.,  0.,  0.,  0.,  0.,  0.,  0.,  0.,  0.,  0.,  0.,  0.,  0.,  0.,  0.,  0.,  0.,  0.,  0.,  0.,  0.,  0.,  0.,  0.,  0.,  0.,  0.,  0.,  0.,  0.,  0.,  0.,  0.,  0.,  0.,  0.,  0.,  0.,  0.,  0.,  0.,  0.,  0.,  0.,  0.,  0.,  0.,  0.,  0.,  0.,  0.,  0.,  0.,  0.,  0.,  0.,  0.,  0.,  0.,  0.,  0.,  0.,  0.,  0.,  0.,  0.,  0.,  0.,  0.,  0.,  0.,  0.,  0.,  0.,  0.,  0.,  0.,  0.,  0.,  0.,  0.,  0.,  0.,  0.,  0.,  0.,  0.,  0.,  0.,  0.,  0.,  0.,  0.,  0.,  0.,  0.,  0.,  0.,  0.,  0.,  0.,  0.,  0.,  0.,  0.,  0.,  0.,  0.,  0.,  0.,  0.,  0.,  0.,  0.,  0.,  0.,  0.,  0.,  0.,  0.,  0.,  0.,  0.,  0.,  0.,  0.,  0.,  0.,  0.,  0.,  0.], [b'dark_monit', b'dark_monit', b'dark_monit', b'', b'', b'', b'', b'', b'', b'', b'', b'', b'', b'', b'', b'', b'', b'', b'', b'', b'', b'', b'', b'', b'', b'', b'', b'', b'', b'', b'', b'', b'', b'', b'', b'', b'', b'', b'', b'', b'', b'', b'', b'', b'', b'', b'', b'', b'', b'', b'', b'', b'', b'', b'', b'', b'', b'', b'', b'', b'', b'', b'', b'', b'', b'', b'', b'', b'', b'', b'', b'', b'', b'', b'', b'', b'', b'', b'', b'', b'', b'', b'', b'', b'', b'', b'', b'', b'', b'', b'', b'', b'', b'', b'', b'', b'', b'', b'', b'', b'', b'', b'', b'', b'', b'', b'', b'', b'', b'', b'', b'', b'', b'', b'', b'', b'', b'', b'', b'', b'', b'', b'', b'', b'', b'', b'', b'', b'', b'', b'', b'', b'', b'', b'', b'', b'', b'', b'', b'', b'', b'', b'', b'', b'', b'', b'', b'', b'', b'', b'', b'', b'', b'', b'', b'', b'', b'', b'', b'', b'', b'', b'', b'', b'', b'', b'', b'', b'', b'', b'', b'', b'', b''], [35., 35., 35.,  0.,  0.,  0.,  0.,  0.,  0.,  0.,  0.,  0.,  0.,  0.,  0.,  0.,  0.,  0.,  0.,  0.,  0.,  0.,  0.,  0.,  0.,  0.,  0.,  0.,  0.,  0.,  0.,  0.,  0.,  0.,  0.,  0.,  0.,  0.,  0.,  0.,  0.,  0.,  0.,  0.,  0.,  0.,  0.,  0.,  0.,  0.,  0.,  0.,  0.,  0.,  0.,  0.,  0.,  0.,  0.,  0.,  0.,  0.,  0.,  0.,  0.,  0.,  0.,  0.,  0.,  0.,  0.,  0.,  0.,  0.,  0.,  0.,  0.,  0.,  0.,  0.,  0.,  0.,  0.,  0.,  0.,  0.,  0.,  0.,  0.,  0.,  0.,  0.,  0.,  0.,  0.,  0.,  0.,  0.,  0.,  0.,  0.,  0.,  0.,  0.,  0.,  0.,  0.,  0.,  0.,  0.,  0.,  0.,  0.,  0.,  0.,  0.,  0.,  0.,  0.,  0.,  0.,  0.,  0.,  0.,  0.,  0.,  0.,  0.,  0.,  0.,  0.,  0.,  0.,  0.,  0.,  0.,  0.,  0.,  0.,  0.,  0.,  0.,  0.,  0.,  0.,  0.,  0.,  0.,  0.,  0.,  0.,  0.,  0.,  0.,  0.,  0.,  0.,  0.,  0.,  0.,  0.,  0.,  0.,  0.,  0.,  0.,  0.,  0.,  0.,  0.,  0.,  0.,  0.,  0.], [-1.5, -1.5, -1.5,  0. ,  0. ,  0. ,  0. ,  0. ,  0. ,  0. ,  0. ,  0. ,  0. ,  0. ,  0. ,  0. ,  0. ,  0. ,  0. ,  0. ,  0. ,  0. ,  0. ,  0. ,  0. ,  0. ,  0. ,  0. ,  0. ,  0. ,  0. ,  0. ,  0. ,  0. ,  0. ,  0. ,  0. ,  0. ,  0. ,  0. ,  0. ,  0. ,  0. ,  0. ,  0. ,  0. ,  0. ,  0. ,  0. ,  0. ,  0. ,  0. ,  0. ,  0. ,  0. ,  0. ,  0. ,  0. ,  0. ,  0. ,  0. ,  0. ,  0. ,  0. ,  0. ,  0. ,  0. ,  0. ,  0. ,  0. ,  0. ,  0. ,  0. ,  0. ,  0. ,  0. ,  0. ,  0. ,  0. ,  0. ,  0. ,  0. ,  0. ,  0. ,  0. ,  0. ,  0. ,  0. ,  0. ,  0. ,  0. ,  0. ,  0. ,  0. ,  0. ,  0. ,  0. ,  0. ,  0. ,  0. ,  0. ,  0. ,  0. ,  0. ,  0. ,  0. ,  0. ,  0. ,  0. ,  0. ,  0. ,  0. ,  0. ,  0. ,  0. ,  0. ,  0. ,  0. ,  0. ,  0. ,  0. ,  0. ,  0. ,  0. ,  0. ,  0. ,  0. ,  0. ,  0. ,  0. ,  0. ,  0. ,  0. ,  0. ,  0. ,  0. ,  0. ,  0. ,  0. ,  0. ,  0. ,  0. ,  0. ,  0. ,  0. ,  0. ,  0. ,  0. ,  0. ,  0. ,  0. ,  0. ,  0. ,  0. ,  0. ,  0. ,  0. ,  0. ,  0. ,  0. ,  0. ,  0. ,  0. ,  0. ,  0. ,  0. ,  0. ,  0. ,  0. ,  0. ,  0. ,  0. ,  0. ,  0. ], [15., 15., 15.,  0.,  0.,  0.,  0.,  0.,  0.,  0.,  0.,  0.,  0.,  0.,  0.,  0.,  0.,  0.,  0.,  0.,  0.,  0.,  0.,  0.,  0.,  0.,  0.,  0.,  0.,  0.,  0.,  0.,  0.,  0.,  0.,  0.,  0.,  0.,  0.,  0.,  0.,  0.,  0.,  0.,  0.,  0.,  0.,  0.,  0.,  0.,  0.,  0.,  0.,  0.,  0.,  0.,  0.,  0.,  0.,  0.,  0.,  0.,  0.,  0.,  0.,  0.,  0.,  0.,  0.,  0.,  0.,  0.,  0.,  0.,  0.,  0.,  0.,  0.,  0.,  0.,  0.,  0.,  0.,  0.,  0.,  0.,  0.,  0.,  0.,  0.,  0.,  0.,  0.,  0.,  0.,  0.,  0.,  0.,  0.,  0.,  0.,  0.,  0.,  0.,  0.,  0.,  0.,  0.,  0.,  0.,  0.,  0.,  0.,  0.,  0.,  0.,  0.,  0.,  0.,  0.,  0.,  0.,  0.,  0.,  0.,  0.,  0.,  0.,  0.,  0.,  0.,  0.,  0.,  0.,  0.,  0.,  0.,  0.,  0.,  0.,  0.,  0.,  0.,  0.,  0.,  0.,  0.,  0.,  0.,  0.,  0.,  0.,  0.,  0.,  0.,  0.,  0.,  0.,  0.,  0.,  0.,  0.,  0.,  0.,  0.,  0.,  0.,  0.,  0.,  0.,  0.,  0.,  0.,  0.], [1.4, 1.4, 1.4, 0. , 0. , 0. , 0. , 0. , 0. , 0. , 0. , 0. , 0. , 0. , 0. , 0. , 0. , 0. , 0. , 0. , 0. , 0. , 0. , 0. , 0. , 0. , 0. , 0. , 0. , 0. , 0. , 0. , 0. , 0. , 0. , 0. , 0. , 0. , 0. , 0. , 0. , 0. , 0. , 0. , 0. , 0. , 0. , 0. , 0. , 0. , 0. , 0. , 0. , 0. , 0. , 0. , 0. , 0. , 0. , 0. , 0. , 0. , 0. , 0. , 0. , 0. , 0. , 0. , 0. , 0. , 0. , 0. , 0. , 0. , 0. , 0. , 0. , 0. , 0. , 0. , 0. , 0. , 0. , 0. , 0. , 0. , 0. , 0. , 0. , 0. , 0. , 0. , 0. , 0. , 0. , 0. , 0. , 0. , 0. , 0. , 0. , 0. , 0. , 0. , 0. , 0. , 0. , 0. , 0. , 0. , 0. , 0. , 0. , 0. , 0. , 0. , 0. , 0. , 0. , 0. , 0. , 0. , 0. , 0. , 0. , 0. , 0. , 0. , 0. , 0. , 0. , 0. , 0. , 0. , 0. , 0. , 0. , 0. , 0. , 0. , 0. , 0. , 0. , 0. , 0. , 0. , 0. , 0. , 0. , 0. , 0. , 0. , 0. , 0. , 0. , 0. , 0. , 0. , 0. , 0. , 0. , 0. , 0. , 0. , 0. , 0. , 0. , 0. , 0. , 0. , 0. , 0. , 0. , 0. ], 'dark_3x4', '_v2')\n"
     ]
    }
   ],
   "source": [
    "FinalCadenceArray = clist.toarray()\n",
    "\n",
    "print(len(FinalCadenceArray))\n",
    "\n",
    "#now let's replace all the non-active zero deltas with -1\n",
    "print(FinalCadenceArray[39])\n",
    "\n",
    "#np.shape(FinalCadenceArray)\n",
    "#TrimmedArray = np.delete(FinalCadenceArray, 9, 1)\n",
    "#print(FinalCadenceArray[41])"
   ]
  },
  {
   "cell_type": "code",
   "execution_count": 76,
   "id": "mental-rover",
   "metadata": {},
   "outputs": [],
   "source": [
    "fitsio.write(\"DefaultCadences_v2.fits\", FinalCadenceArray)"
   ]
  },
  {
   "cell_type": "markdown",
   "id": "appointed-trademark",
   "metadata": {},
   "source": [
    "Success!  \n",
    "\n",
    "This command should produce the [DefaultCadences.fits file](https://github.com/sdss/roboDocs/blob/main/cadences/DefaultCadences.fits) that lives next to this notebook.\n",
    "\n",
    "As telegraphed above, we could then use some of the functionality roboscheduler provides to load these cadences into the targeting database, but that would require getting credentials etc. correct, so let's leave that for later..."
   ]
  },
  {
   "cell_type": "markdown",
   "id": "alien-wages",
   "metadata": {},
   "source": [
    "Now let's print to a csv so that Pramod can import easily..."
   ]
  },
  {
   "cell_type": "code",
   "execution_count": 77,
   "id": "spare-choice",
   "metadata": {},
   "outputs": [],
   "source": [
    "clist.tocsv('defaultCadences_v2.csv')"
   ]
  },
  {
   "cell_type": "code",
   "execution_count": null,
   "id": "rough-bunny",
   "metadata": {},
   "outputs": [],
   "source": []
  }
 ],
 "metadata": {
  "kernelspec": {
   "display_name": "Python 3",
   "language": "python",
   "name": "python3"
  },
  "language_info": {
   "codemirror_mode": {
    "name": "ipython",
    "version": 3
   },
   "file_extension": ".py",
   "mimetype": "text/x-python",
   "name": "python",
   "nbconvert_exporter": "python",
   "pygments_lexer": "ipython3",
   "version": "3.8.6"
  }
 },
 "nbformat": 4,
 "nbformat_minor": 5
}
